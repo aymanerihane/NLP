{
 "cells": [
  {
   "cell_type": "code",
   "execution_count": 1,
   "id": "cb552951",
   "metadata": {},
   "outputs": [],
   "source": [
    "import PyPDF2\n",
    "import re\n",
    "import csv"
   ]
  },
  {
   "cell_type": "code",
   "execution_count": 5,
   "id": "d55d2c29",
   "metadata": {},
   "outputs": [
    {
     "name": "stdout",
     "output_type": "stream",
     "text": [
      "Extraction terminée. 2 emails ont été extraits et enregistrés dans emails_extraits.csv.\n"
     ]
    }
   ],
   "source": [
    "# Fonction pour extraire le texte du PDF\n",
    "def extract_text_from_pdf(pdf_path):\n",
    "    with open(pdf_path, 'rb') as file:\n",
    "        pdf_reader = PyPDF2.PdfReader(file)\n",
    "        text = ''\n",
    "        for page in range(len(pdf_reader.pages)):\n",
    "            text += pdf_reader.pages[page].extract_text()\n",
    "    return text\n",
    "\n",
    "# Fonction pour extraire les emails du texte\n",
    "def extract_emails(text):\n",
    "    # Expression régulière pour détecter les adresses emails\n",
    "    email_regex = r'[a-zA-Z0-9._%+-]+@[a-zA-Z0-9.-]+\\.[a-zA-Z]{2,}'\n",
    "    emails = re.findall(email_regex, text)\n",
    "    return emails\n",
    "\n",
    "# Fonction pour enregistrer les emails dans un fichier CSV\n",
    "def save_emails_to_csv(emails, output_csv_path):\n",
    "    with open(output_csv_path, mode='w', newline='') as file:\n",
    "        writer = csv.writer(file)\n",
    "        writer.writerow([\"Email\"])  # Écrire l'entête\n",
    "        for email in emails:\n",
    "            writer.writerow([email])  # Ajouter chaque email dans le fichier CSV\n",
    "\n",
    "# Main\n",
    "pdf_path = 'C:/Users/pc/OneDrive/Documents/identifi/recu/recu_G138556001_417.pdf'  # Remplacez par le chemin de votre fichier PDF\n",
    "output_csv_path = 'emails_extraits.csv'\n",
    "\n",
    "# Extraire le texte du PDF\n",
    "text = extract_text_from_pdf(pdf_path)\n",
    "\n",
    "# Extraire les emails du texte\n",
    "emails = set(extract_emails(text))\n",
    "\n",
    "# Enregistrer les emails dans un fichier CSV\n",
    "save_emails_to_csv(emails, output_csv_path)\n",
    "\n",
    "print(f\"Extraction terminée. {len(emails)} emails ont été extraits et enregistrés dans {output_csv_path}.\")\n"
   ]
  }
 ],
 "metadata": {
  "kernelspec": {
   "display_name": "Python 3",
   "language": "python",
   "name": "python3"
  },
  "language_info": {
   "codemirror_mode": {
    "name": "ipython",
    "version": 3
   },
   "file_extension": ".py",
   "mimetype": "text/x-python",
   "name": "python",
   "nbconvert_exporter": "python",
   "pygments_lexer": "ipython3",
   "version": "3.12.2"
  }
 },
 "nbformat": 4,
 "nbformat_minor": 5
}
